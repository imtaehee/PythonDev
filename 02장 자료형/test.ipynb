{
 "cells": [
  {
   "cell_type": "code",
   "execution_count": 12,
   "metadata": {},
   "outputs": [
    {
     "name": "stdout",
     "output_type": "stream",
     "text": [
      "65\n",
      "66\n",
      "1\n",
      "0.0314\n"
     ]
    }
   ],
   "source": [
    "print(ord(\"A\")) #인코딩 : 문자열을 숫자로\n",
    "print(ord(\"B\"))\n",
    "\n",
    "chr(65)\n",
    "chr(65+25)  #디코딩 : 숫자를 문자열로\n",
    "\n",
    "a=0\n",
    "b=1\n",
    "c=a+b\n",
    "print(c)\n",
    "\n",
    "bin(ord(\"a\"))\n",
    "\n",
    "print(3.14E-2)\n"
   ]
  },
  {
   "cell_type": "code",
   "execution_count": 4,
   "metadata": {},
   "outputs": [
    {
     "name": "stdout",
     "output_type": "stream",
     "text": [
      "C:\\PythonDev/name\n"
     ]
    }
   ],
   "source": [
    "path=\"C:\\\\PythonDev\\\\name\"\n",
    "path=\"C:\\PythonDev/name\"\n",
    "print(path)"
   ]
  },
  {
   "cell_type": "code",
   "execution_count": 12,
   "metadata": {},
   "outputs": [
    {
     "data": {
      "text/plain": [
       "10084"
      ]
     },
     "execution_count": 12,
     "metadata": {},
     "output_type": "execute_result"
    }
   ],
   "source": [
    "\"❤\"*10\n",
    "ord(\"❤\")"
   ]
  },
  {
   "cell_type": "code",
   "execution_count": 21,
   "metadata": {},
   "outputs": [
    {
     "data": {
      "text/plain": [
       "'python'"
      ]
     },
     "execution_count": 21,
     "metadata": {},
     "output_type": "execute_result"
    }
   ],
   "source": [
    "#       01234567890123456789012345678901234\n",
    "text = \"Life is too short. You need python.\"\n",
    "\n",
    "text[19]\n",
    "text[-1]\n",
    "text[-1] == text[34]\n",
    "\n",
    "text[0:4]\n",
    "text[-7:-1]"
   ]
  },
  {
   "cell_type": "code",
   "execution_count": 23,
   "metadata": {},
   "outputs": [
    {
     "name": "stdout",
     "output_type": "stream",
     "text": [
      "영희님의 국어점수는 95점입니다.\n"
     ]
    }
   ],
   "source": [
    "# 문자열 포매팅\n",
    "\n",
    "subject=\"국어\"\n",
    "name=\"영희\"\n",
    "score=95\n",
    "\n",
    "text= \"%s님의 %s점수는 %d점입니다.\" %(name, subject, score)\n",
    "\n",
    "print(text)\n"
   ]
  },
  {
   "cell_type": "code",
   "execution_count": 24,
   "metadata": {},
   "outputs": [
    {
     "name": "stdout",
     "output_type": "stream",
     "text": [
      "영희님의 국어점수는 95점입니다.\n",
      "철수님의 국어점수는 80점입니다.\n",
      "길동님의 국어점수는 70점입니다.\n"
     ]
    }
   ],
   "source": [
    "subject=\"국어\"\n",
    "name=[\"영희\", \"철수\", \"길동\"]\n",
    "score=[95, 80, 70]\n",
    "\n",
    "for n in range(len(name)):\n",
    "    text= \"%s님의 %s점수는 %d점입니다.\" %(name[n], subject, score[n])\n",
    "    print(text)"
   ]
  },
  {
   "cell_type": "code",
   "execution_count": 27,
   "metadata": {},
   "outputs": [
    {
     "name": "stdout",
     "output_type": "stream",
     "text": [
      "영희님의 수학점수는 95점입니다.\n"
     ]
    }
   ],
   "source": [
    "# \"문자열\".format()\n",
    "name=\"영희\"\n",
    "subject=\"수학\"\n",
    "score=95\n",
    "\n",
    "text= \"{}님의 {}점수는 {}점입니다.\".format(name, subject, score)\n",
    "print(text)"
   ]
  }
 ],
 "metadata": {
  "interpreter": {
   "hash": "8931d08a56ba8ec5bd4013e6d6c9066a90d099ecd0b9731835efa4c48cf46a24"
  },
  "kernelspec": {
   "display_name": "Python 3.10.1 64-bit",
   "language": "python",
   "name": "python3"
  },
  "language_info": {
   "codemirror_mode": {
    "name": "ipython",
    "version": 3
   },
   "file_extension": ".py",
   "mimetype": "text/x-python",
   "name": "python",
   "nbconvert_exporter": "python",
   "pygments_lexer": "ipython3",
   "version": "3.10.1"
  },
  "orig_nbformat": 4
 },
 "nbformat": 4,
 "nbformat_minor": 2
}
